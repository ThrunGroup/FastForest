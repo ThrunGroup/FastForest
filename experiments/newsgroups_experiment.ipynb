{
 "cells": [
  {
   "cell_type": "code",
   "execution_count": 13,
   "id": "331e630f",
   "metadata": {},
   "outputs": [
    {
     "name": "stdout",
     "output_type": "stream",
     "text": [
      "<function fetch_olivetti_faces at 0x7fef48663940>\n",
      "<function fetch_20newsgroups_vectorized at 0x7fef6889ee50>\n",
      "<function fetch_lfw_people at 0x7fef888425e0>\n",
      "<function fetch_lfw_pairs at 0x7fef88842700>\n",
      "<function fetch_covtype at 0x7fef6885be50>\n",
      "<function fetch_rcv1 at 0x7fef688f99d0>\n",
      "<function fetch_kddcup99 at 0x7fef88842040>\n",
      "<function fetch_california_housing at 0x7fef688f9820>\n"
     ]
    }
   ],
   "source": [
    "# Download all datasets from sklearn\n",
    "from sklearn.datasets import *\n",
    "for m in [fetch_olivetti_faces, fetch_20newsgroups_vectorized, fetch_lfw_people, fetch_lfw_pairs, fetch_covtype, fetch_rcv1, fetch_kddcup99, fetch_california_housing]:\n",
    "    print(m)\n",
    "    try:\n",
    "        all_ = m()\n",
    "        train = m(subset='train')\n",
    "        test = m(subset='test')\n",
    "    except:\n",
    "        pass"
   ]
  },
  {
   "cell_type": "code",
   "execution_count": 83,
   "id": "dea93964",
   "metadata": {},
   "outputs": [
    {
     "name": "stdout",
     "output_type": "stream",
     "text": [
      "Number of datapoints:  1073\n",
      "Number of features:  18217\n",
      "Balance:  0.5526561043802423\n"
     ]
    }
   ],
   "source": [
    "from sklearn.datasets import fetch_20newsgroups\n",
    "from sklearn.feature_extraction.text import TfidfVectorizer\n",
    "from sklearn.decomposition import PCA\n",
    "\n",
    "# Download the data from two categories\n",
    "cats = ['alt.atheism', 'sci.space']\n",
    "ng_train = fetch_20newsgroups(subset='train', remove=('headers', 'footers', 'quotes'), categories=cats)\n",
    "ng_test = fetch_20newsgroups(subset='test', remove=('headers', 'footers', 'quotes'), categories=cats)\n",
    "\n",
    "\n",
    "vectorizer = TfidfVectorizer()\n",
    "trans = vectorizer.fit(ng_train.data)\n",
    "train_vectors = vectorizer.transform(ng_train.data)\n",
    "test_vectors = vectorizer.transform(ng_test.data)\n",
    "print(\"Number of datapoints: \", len(ng_train.data))\n",
    "print(\"Number of features: \", train_vectors.shape[1])\n",
    "print(\"Balance: \", np.sum(ng_train.target) / len(ng_train.target)) # 55-45, roughly balanced\n",
    "\n",
    "N_COMPONENTS=100\n",
    "pca = PCA(n_components=N_COMPONENTS)\n",
    "pca.fit(train_vectors.toarray())\n",
    "pca_train_vecs = pca.transform(train_vectors.toarray())\n",
    "pca_test_vecs = pca.transform(test_vectors.toarray())"
   ]
  },
  {
   "cell_type": "code",
   "execution_count": 86,
   "id": "983ecf5a",
   "metadata": {},
   "outputs": [
    {
     "name": "stdout",
     "output_type": "stream",
     "text": [
      "Accuracy: 0.7741935483870968\n"
     ]
    }
   ],
   "source": [
    "from sklearn.model_selection import cross_val_score\n",
    "from sklearn.tree import DecisionTreeClassifier\n",
    "dt = DecisionTreeClassifier(random_state=0)\n",
    "dt.fit(pca_train_vecs,ng_train.target)\n",
    "print(\"Decision Tree Accuracy:\", np.mean(dt.predict(pca_test_vecs) == ng_test.target))\n",
    "\n",
    "#cross_val_score(dt, pca_train_vecs, ng_train.target, cv=10).mean()"
   ]
  },
  {
   "cell_type": "code",
   "execution_count": 90,
   "id": "2554a668",
   "metadata": {},
   "outputs": [
    {
     "name": "stdout",
     "output_type": "stream",
     "text": [
      "Random Forest Accuracy: 0.8008415147265077\n"
     ]
    }
   ],
   "source": [
    "from sklearn.ensemble import RandomForestClassifier\n",
    "rf = RandomForestClassifier(random_state=0)\n",
    "rf.fit(pca_train_vecs,ng_train.target)\n",
    "print(\"Random Forest Accuracy:\", np.mean(rf.predict(pca_test_vecs) == ng_test.target))\n",
    "\n",
    "#cross_val_score(rf, pca_train_vecs, ng_train.target, cv=10).mean()"
   ]
  },
  {
   "cell_type": "code",
   "execution_count": 108,
   "id": "1e8bfc99",
   "metadata": {},
   "outputs": [],
   "source": [
    "from data_structures.tree_classifier import TreeClassifier\n",
    "import utils.utils\n",
    "\n",
    "classes_arr = np.unique(ng_train.target)\n",
    "classes = utils.utils.class_to_idx(classes_arr)"
   ]
  },
  {
   "cell_type": "code",
   "execution_count": 109,
   "id": "8a84470d",
   "metadata": {},
   "outputs": [
    {
     "name": "stdout",
     "output_type": "stream",
     "text": [
      "Calculated split with 2073 queries\n",
      "Calculated split with 658 queries\n",
      "Calculated split with 1415 queries\n",
      "Calculated split with 402 queries\n",
      "Calculated split with 1013 queries\n",
      "Calculated split with 86 queries\n",
      "Calculated split with 827 queries\n",
      "Calculated split with 33 queries\n",
      "Calculated split with 269 queries\n",
      "Calculated split with 631 queries\n",
      "Calculated split with 27 queries\n",
      "Calculated split with 227 queries\n",
      "Calculated split with 42 queries\n",
      "Calculated split with 3 queries\n",
      "Calculated split with 824 queries\n",
      "Calculated split with 12 queries\n",
      "Calculated split with 15 queries\n",
      "Calculated split with 70 queries\n",
      "Calculated split with 16 queries\n",
      "Calculated split with 278 queries\n",
      "Calculated split with 253 queries\n",
      "Calculated split with 72 queries\n",
      "Calculated split with 81 queries\n",
      "Calculated split with 30 queries\n",
      "Calculated split with 3 queries\n",
      "Calculated split with 13 queries\n",
      "Calculated split with 2 queries\n",
      "Calculated split with 2 queries\n",
      "Calculated split with 276 queries\n",
      "Calculated split with 1 queries\n",
      "Calculated split with 11 queries\n",
      "Fitting finished\n",
      "Train accuracy: 0.8667287977632805\n",
      "Test accuracy: 0.7854137447405329\n",
      "Num queries: 9665\n"
     ]
    }
   ],
   "source": [
    "tc = TreeClassifier(data=pca_train_vecs, labels=ng_train.target, max_depth=5, classes=classes)\n",
    "tc.fit()\n",
    "print(\"Train accuracy:\", np.mean(tc.predict_batch(pca_train_vecs)[0] == ng_train.target))\n",
    "print(\"Test accuracy:\", np.mean(tc.predict_batch(pca_test_vecs)[0] == ng_test.target))\n",
    "print(\"Num queries:\", tc.num_queries)"
   ]
  },
  {
   "cell_type": "code",
   "execution_count": 110,
   "id": "ee840a67",
   "metadata": {},
   "outputs": [
    {
     "name": "stdout",
     "output_type": "stream",
     "text": [
      "Calculated split with 1073 queries\n",
      "Calculated split with 358 queries\n",
      "Calculated split with 715 queries\n",
      "Calculated split with 94 queries\n",
      "Calculated split with 621 queries\n",
      "Calculated split with 182 queries\n",
      "Calculated split with 439 queries\n",
      "Calculated split with 110 queries\n",
      "Calculated split with 72 queries\n",
      "Calculated split with 30 queries\n",
      "Calculated split with 64 queries\n",
      "Calculated split with 331 queries\n",
      "Calculated split with 27 queries\n",
      "Calculated split with 12 queries\n",
      "Calculated split with 15 queries\n",
      "Calculated split with 46 queries\n",
      "Calculated split with 18 queries\n",
      "Calculated split with 327 queries\n",
      "Calculated split with 4 queries\n",
      "Calculated split with 3 queries\n",
      "Calculated split with 436 queries\n",
      "Calculated split with 2 queries\n",
      "Calculated split with 28 queries\n",
      "Calculated split with 311 queries\n",
      "Calculated split with 16 queries\n",
      "Calculated split with 13 queries\n",
      "Calculated split with 2 queries\n",
      "Calculated split with 1 queries\n",
      "Calculated split with 11 queries\n",
      "Fitting finished\n",
      "Train accuracy: 0.8732525629077353\n",
      "Test accuracy: 0.782608695652174\n",
      "Num queries: 5361\n"
     ]
    }
   ],
   "source": [
    "tc = TreeClassifier(data=pca_train_vecs, labels=ng_train.target, max_depth=5, classes=classes, solver=\"EXACT\")\n",
    "tc.fit()\n",
    "print(\"Train accuracy:\", np.mean(tc.predict_batch(pca_train_vecs)[0] == ng_train.target))\n",
    "print(\"Test accuracy:\", np.mean(tc.predict_batch(pca_test_vecs)[0] == ng_test.target))\n",
    "print(\"Num queries:\", tc.num_queries)"
   ]
  },
  {
   "cell_type": "code",
   "execution_count": null,
   "id": "877237a8",
   "metadata": {},
   "outputs": [],
   "source": []
  }
 ],
 "metadata": {
  "kernelspec": {
   "display_name": "Python 3 (ipykernel)",
   "language": "python",
   "name": "python3"
  },
  "language_info": {
   "codemirror_mode": {
    "name": "ipython",
    "version": 3
   },
   "file_extension": ".py",
   "mimetype": "text/x-python",
   "name": "python",
   "nbconvert_exporter": "python",
   "pygments_lexer": "ipython3",
   "version": "3.8.12"
  }
 },
 "nbformat": 4,
 "nbformat_minor": 5
}
